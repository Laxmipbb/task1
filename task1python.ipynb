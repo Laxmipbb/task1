{
 "cells": [
  {
   "cell_type": "code",
   "execution_count": 1,
   "id": "a0dcb8b2-cea5-43f2-b81b-130f72717ea6",
   "metadata": {},
   "outputs": [
    {
     "name": "stdout",
     "output_type": "stream",
     "text": [
      "30\n"
     ]
    }
   ],
   "source": [
    "x = 10\n",
    "y = 20\n",
    "if x == 10:\n",
    "    x = x+y\n",
    "    print(x)"
   ]
  },
  {
   "cell_type": "code",
   "execution_count": 4,
   "id": "21bb4829-1c2c-46de-89c0-ae8c2562c66c",
   "metadata": {},
   "outputs": [
    {
     "name": "stdout",
     "output_type": "stream",
     "text": [
      "100\n"
     ]
    }
   ],
   "source": [
    "def print_square(x):\n",
    "\n",
    "    print(x*x)\n",
    "\n",
    "print_square(10)"
   ]
  },
  {
   "cell_type": "code",
   "execution_count": 11,
   "id": "d80baae9-f769-454f-ab59-40ca82c4c433",
   "metadata": {},
   "outputs": [
    {
     "name": "stdout",
     "output_type": "stream",
     "text": [
      "red\n"
     ]
    }
   ],
   "source": [
    "class Car:\n",
    "    \n",
    "    def __init__(self,color,model):\n",
    "        self.color = color\n",
    "        self.model = model\n",
    "        \n",
    "    def get_color(self):\n",
    "        return self.color\n",
    "my_car = Car(\"red\",\"sedan\")\n",
    "print(my_car.get_color())"
   ]
  },
  {
   "cell_type": "code",
   "execution_count": 13,
   "id": "968705b2-7e2f-473c-bb5e-347fb9b4c4cb",
   "metadata": {},
   "outputs": [
    {
     "name": "stdout",
     "output_type": "stream",
     "text": [
      "{'a': 1, 'b': 2, 'c': 3}\n"
     ]
    }
   ],
   "source": [
    "my_dict = {\"a\":1 , \"b\":2 , \"c\":3}\n",
    "my_set = set(my_dict.keys())\n",
    "my_set.add(\"d\")\n",
    "print(my_dict)"
   ]
  },
  {
   "cell_type": "code",
   "execution_count": 14,
   "id": "ea8d9d55-52c6-4055-b0de-654371369de0",
   "metadata": {},
   "outputs": [
    {
     "name": "stdout",
     "output_type": "stream",
     "text": [
      "x is less than 20\n"
     ]
    }
   ],
   "source": [
    "x = 10\n",
    "if x < 20:\n",
    "    print(\"x is less than 20\")\n",
    "else:\n",
    "    print(\"x is greater than or equal to 20\")\n"
   ]
  },
  {
   "cell_type": "code",
   "execution_count": 15,
   "id": "51c9b43d-ce08-4f90-961b-26e3e6455c1d",
   "metadata": {},
   "outputs": [
    {
     "name": "stdout",
     "output_type": "stream",
     "text": [
      "1\n",
      "2\n",
      "3\n",
      "4\n"
     ]
    }
   ],
   "source": [
    "i = 1\n",
    "\n",
    "while i<5:\n",
    "    print(i)\n",
    "    i = i + 1\n",
    "    "
   ]
  },
  {
   "cell_type": "code",
   "execution_count": null,
   "id": "1c85a69d-7a86-4dee-9b46-b0428ea37b2a",
   "metadata": {},
   "outputs": [],
   "source": []
  }
 ],
 "metadata": {
  "kernelspec": {
   "display_name": "Python 3 (ipykernel)",
   "language": "python",
   "name": "python3"
  },
  "language_info": {
   "codemirror_mode": {
    "name": "ipython",
    "version": 3
   },
   "file_extension": ".py",
   "mimetype": "text/x-python",
   "name": "python",
   "nbconvert_exporter": "python",
   "pygments_lexer": "ipython3",
   "version": "3.10.8"
  }
 },
 "nbformat": 4,
 "nbformat_minor": 5
}
